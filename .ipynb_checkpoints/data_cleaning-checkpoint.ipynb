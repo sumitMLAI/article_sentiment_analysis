{
 "cells": [
  {
   "cell_type": "code",
   "execution_count": 1,
   "id": "97bc6f2d",
   "metadata": {},
   "outputs": [],
   "source": [
    "import pandas as pd"
   ]
  },
  {
   "cell_type": "code",
   "execution_count": 2,
   "id": "a9b3c569",
   "metadata": {},
   "outputs": [],
   "source": [
    "df=pd.read_excel(\"Assignment.xlsx\")"
   ]
  },
  {
   "cell_type": "code",
   "execution_count": 12,
   "id": "65b9ed4f",
   "metadata": {},
   "outputs": [
    {
     "data": {
      "text/plain": [
       "'Move over, Ozempic — there’s a new drug in town.\\n\\nEli Lilly’s Zepbound, with the active ingredient tirzepatide, has been approved by the Food and Drug Administration for use by obese or overweight adults who have at least one weight-related health complication, like Type 2 diabetes, high blood pressure or high cholesterol.\\n\\nTirzepatide, sold as Mounjaro, has already been approved for treating type 2 diabetes since May 2022, but now, patients can be prescribed the drug for chronic weight management.\\n\\n“Obesity and overweight are serious conditions that can be associated with some of the leading causes of death such as heart disease, stroke and diabetes,” Dr. John Sharretts, the director of the Division of Diabetes, Lipid Disorders, and Obesity for the FDA’s Center for Drug Evaluation and Research, said in a statement.\\n\\n“In light of increasing rates of both obesity and overweight in the United States, today’s approval addresses an unmet medical need.”\\n\\nApproximately 70% of Americans are overweight or obese, according to the FDA, and a worrying report published by the World Obesity Federation this year projected that more than half of the world’s population could be overweight or obese by 2035.\\n\\nHowever, the FDA reports that dropping only 5% to 10% of overall body weight can lower the risk of developing heart disease as a result — cue weight management drugs, which can help people lose stubborn pounds when diet and exercise alone fail.\\n\\n“Unfortunately, despite scientific evidence to the contrary, obesity is often seen as a lifestyle choice – something that people should manage themselves,” Dr. Leonard Glass, the senior vice president global medical affairs at Lilly Diabetes and Obesity, said in a statement.\\n\\n“Lilly is aiming to eliminate misperceptions about this disease and transform how it can be managed.”\\n\\nZepbound, which was approved Wednesday, has been shown to be an effective chronic weight management drug in combination with lifestyle changes like diet and exercise by activating the receptors for two hormones — glucagon-like peptide-1 (GLP-1) and glucose-dependent insulinotropic polypeptide (GIP) — to suppress appetite, thereby curbing food intake.\\n\\nSide effects of the weekly injectable include nausea, vomiting, abdominal discomfort or pain, fatigue, diarrhea, constipation burping, hair loss, acid reflux and allergic reactions.\\n\\nIn trials, the drug caused thyroid C-cell tumors in rodents, although it is unknown whether Zepbound can result in the same cancer in humans.\\n\\nAccording to the drug’s manufacturer, Zepbound is expected to be available to Americans by the end of the year for a list price of approximately $1,059, which Eli Lilly estimates is 20% less than rival semaglutide, otherwise known as Novo Nordisk’s Ozempic or Wegovy, which costs a staggering $1,300.\\n\\nBut as the demand for a weight loss cure-all soars has led to a market of dangerous counterfeit dupes, which have landed desperate users in the hospital.\\n\\nAnd, despite the pressure for more medication access, “it does not improve or change insurance coverage,” which has been limited, explained Dr. Angela Fitch, the chief medical officer at weight-inclusive healthcare company knownwell.\\n\\n“It remains a problem that obesity is treated as a carve out condition instead of a standard benefit, despite the fact that it is a chronic condition,” she told The Post in a statement.\\n\\n“We’re hopeful that with continued advocacy, advancement in science, and data, we will continue to see improved access to this life-changing medication.”'"
      ]
     },
     "execution_count": 12,
     "metadata": {},
     "output_type": "execute_result"
    }
   ],
   "source": [
    "df['Article'][1]"
   ]
  },
  {
   "cell_type": "code",
   "execution_count": 26,
   "id": "06cc0613",
   "metadata": {},
   "outputs": [],
   "source": [
    "import string\n",
    "\n",
    "def clean_text(text):\n",
    "    text = ''.join([char for char in text if char not in string.punctuation])\n",
    "    text = ' '.join(text.split())\n",
    "    text = text.lower()\n",
    "    return text\n"
   ]
  },
  {
   "cell_type": "code",
   "execution_count": 27,
   "id": "4cc79f2a",
   "metadata": {},
   "outputs": [],
   "source": [
    "df['Cleaned_Article'] = df['Article'].apply(clean_text)\n"
   ]
  },
  {
   "cell_type": "code",
   "execution_count": 34,
   "id": "b5c5e3b9",
   "metadata": {},
   "outputs": [
    {
     "data": {
      "text/html": [
       "<div>\n",
       "<style scoped>\n",
       "    .dataframe tbody tr th:only-of-type {\n",
       "        vertical-align: middle;\n",
       "    }\n",
       "\n",
       "    .dataframe tbody tr th {\n",
       "        vertical-align: top;\n",
       "    }\n",
       "\n",
       "    .dataframe thead th {\n",
       "        text-align: right;\n",
       "    }\n",
       "</style>\n",
       "<table border=\"1\" class=\"dataframe\">\n",
       "  <thead>\n",
       "    <tr style=\"text-align: right;\">\n",
       "      <th></th>\n",
       "      <th>Article</th>\n",
       "      <th>Cleaned_Article</th>\n",
       "    </tr>\n",
       "  </thead>\n",
       "  <tbody>\n",
       "    <tr>\n",
       "      <th>0</th>\n",
       "      <td>Retailers, the makers of foods marketed for we...</td>\n",
       "      <td>retailers the makers of foods marketed for wei...</td>\n",
       "    </tr>\n",
       "    <tr>\n",
       "      <th>1</th>\n",
       "      <td>Move over, Ozempic — there’s a new drug in tow...</td>\n",
       "      <td>move over ozempic — there’s a new drug in town...</td>\n",
       "    </tr>\n",
       "    <tr>\n",
       "      <th>2</th>\n",
       "      <td>Sept 14 (Reuters) - Bristol Myers Squibb (BMY....</td>\n",
       "      <td>sept 14 reuters bristol myers squibb bmyn said...</td>\n",
       "    </tr>\n",
       "    <tr>\n",
       "      <th>3</th>\n",
       "      <td>Austin Wolcott was 18 years old and pretty sur...</td>\n",
       "      <td>austin wolcott was 18 years old and pretty sur...</td>\n",
       "    </tr>\n",
       "    <tr>\n",
       "      <th>4</th>\n",
       "      <td>Cancer, often referred to as the “emperor of a...</td>\n",
       "      <td>cancer often referred to as the “emperor of al...</td>\n",
       "    </tr>\n",
       "  </tbody>\n",
       "</table>\n",
       "</div>"
      ],
      "text/plain": [
       "                                             Article  \\\n",
       "0  Retailers, the makers of foods marketed for we...   \n",
       "1  Move over, Ozempic — there’s a new drug in tow...   \n",
       "2  Sept 14 (Reuters) - Bristol Myers Squibb (BMY....   \n",
       "3  Austin Wolcott was 18 years old and pretty sur...   \n",
       "4  Cancer, often referred to as the “emperor of a...   \n",
       "\n",
       "                                     Cleaned_Article  \n",
       "0  retailers the makers of foods marketed for wei...  \n",
       "1  move over ozempic — there’s a new drug in town...  \n",
       "2  sept 14 reuters bristol myers squibb bmyn said...  \n",
       "3  austin wolcott was 18 years old and pretty sur...  \n",
       "4  cancer often referred to as the “emperor of al...  "
      ]
     },
     "execution_count": 34,
     "metadata": {},
     "output_type": "execute_result"
    }
   ],
   "source": [
    "df.drop([['Article']])"
   ]
  },
  {
   "cell_type": "code",
   "execution_count": 38,
   "id": "1d8dee7c",
   "metadata": {},
   "outputs": [
    {
     "name": "stderr",
     "output_type": "stream",
     "text": [
      "[nltk_data] Downloading package stopwords to C:\\Users\\sumit\n",
      "[nltk_data]     kumar\\AppData\\Roaming\\nltk_data...\n",
      "[nltk_data]   Package stopwords is already up-to-date!\n",
      "[nltk_data] Downloading package wordnet to C:\\Users\\sumit\n",
      "[nltk_data]     kumar\\AppData\\Roaming\\nltk_data...\n"
     ]
    },
    {
     "data": {
      "text/plain": [
       "True"
      ]
     },
     "execution_count": 38,
     "metadata": {},
     "output_type": "execute_result"
    }
   ],
   "source": [
    "import string\n",
    "import re\n",
    "from nltk.corpus import stopwords\n",
    "from nltk.stem import WordNetLemmatizer\n",
    "import nltk\n",
    "nltk.download('stopwords')\n",
    "nltk.download('wordnet')\n",
    "  \n",
    "  "
   ]
  },
  {
   "cell_type": "code",
   "execution_count": 39,
   "id": "fc38d6b4",
   "metadata": {},
   "outputs": [],
   "source": [
    "def clean_text(text):\n",
    "    # Remove punctuation\n",
    "    text = re.sub('[%s]' % re.escape(string.punctuation), '', text)\n",
    "    \n",
    "    # Tokenize and remove stopwords\n",
    "    stop_words = set(stopwords.words('english'))\n",
    "    tokens = text.split()\n",
    "    tokens = [word for word in tokens if word.lower() not in stop_words]\n",
    "    \n",
    "    # Lemmatize words\n",
    "    lemmatizer = WordNetLemmatizer()\n",
    "    tokens = [lemmatizer.lemmatize(word) for word in tokens]\n",
    "    \n",
    "    # Join tokens back into text\n",
    "    cleaned_text = ' '.join(tokens)\n",
    "    \n",
    "    return cleaned_text.lower()"
   ]
  },
  {
   "cell_type": "code",
   "execution_count": 40,
   "id": "9dde378f",
   "metadata": {},
   "outputs": [],
   "source": [
    "df['Cleaned_Article'] = df['Article'].apply(clean_text)"
   ]
  },
  {
   "cell_type": "code",
   "execution_count": 42,
   "id": "7c10197a",
   "metadata": {},
   "outputs": [
    {
     "data": {
      "text/plain": [
       "'move ozempic — there’s new drug town eli lilly’s zepbound active ingredient tirzepatide approved food drug administration use obese overweight adult least one weightrelated health complication like type 2 diabetes high blood pressure high cholesterol tirzepatide sold mounjaro already approved treating type 2 diabetes since may 2022 patient prescribed drug chronic weight management “obesity overweight serious condition associated leading cause death heart disease stroke diabetes” dr john sharretts director division diabetes lipid disorders obesity fda’s center drug evaluation research said statement “in light increasing rate obesity overweight united states today’s approval address unmet medical need” approximately 70 americans overweight obese according fda worrying report published world obesity federation year projected half world’s population could overweight obese 2035 however fda report dropping 5 10 overall body weight lower risk developing heart disease result — cue weight management drug help people lose stubborn pound diet exercise alone fail “unfortunately despite scientific evidence contrary obesity often seen lifestyle choice – something people manage themselves” dr leonard glass senior vice president global medical affair lilly diabetes obesity said statement “lilly aiming eliminate misperceptions disease transform managed” zepbound approved wednesday shown effective chronic weight management drug combination lifestyle change like diet exercise activating receptor two hormone — glucagonlike peptide1 glp1 glucosedependent insulinotropic polypeptide gip — suppress appetite thereby curbing food intake side effect weekly injectable include nausea vomiting abdominal discomfort pain fatigue diarrhea constipation burping hair loss acid reflux allergic reaction trial drug caused thyroid ccell tumor rodent although unknown whether zepbound result cancer human according drug’s manufacturer zepbound expected available americans end year list price approximately 1059 eli lilly estimate 20 le rival semaglutide otherwise known novo nordisk’s ozempic wegovy cost staggering 1300 demand weight loss cureall soar led market dangerous counterfeit dupe landed desperate user hospital despite pressure medication access “it improve change insurance coverage” limited explained dr angela fitch chief medical officer weightinclusive healthcare company knownwell “it remains problem obesity treated carve condition instead standard benefit despite fact chronic condition” told post statement “we’re hopeful continued advocacy advancement science data continue see improved access lifechanging medication”'"
      ]
     },
     "execution_count": 42,
     "metadata": {},
     "output_type": "execute_result"
    }
   ],
   "source": [
    "df['Cleaned_Article'][1]"
   ]
  },
  {
   "cell_type": "code",
   "execution_count": null,
   "id": "899733f1",
   "metadata": {},
   "outputs": [],
   "source": []
  }
 ],
 "metadata": {
  "kernelspec": {
   "display_name": "Python 3 (ipykernel)",
   "language": "python",
   "name": "python3"
  },
  "language_info": {
   "codemirror_mode": {
    "name": "ipython",
    "version": 3
   },
   "file_extension": ".py",
   "mimetype": "text/x-python",
   "name": "python",
   "nbconvert_exporter": "python",
   "pygments_lexer": "ipython3",
   "version": "3.11.5"
  }
 },
 "nbformat": 4,
 "nbformat_minor": 5
}
